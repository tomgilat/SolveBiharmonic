{
 "cells": [
  {
   "cell_type": "code",
   "execution_count": 25,
   "id": "69b8f5d8",
   "metadata": {},
   "outputs": [
    {
     "data": {
      "application/vnd.jupyter.widget-view+json": {
       "model_id": "ba905b63875a4f358582dda51da5b434",
       "version_major": 2,
       "version_minor": 0
      },
      "text/plain": [
       "WebGuiWidget(layout=Layout(height='500px', width='100%'), value={'gui_settings': {}, 'ngsolve_version': '6.2.2…"
      ]
     },
     "metadata": {},
     "output_type": "display_data"
    },
    {
     "data": {
      "text/plain": [
       "BaseWebGuiScene"
      ]
     },
     "execution_count": 25,
     "metadata": {},
     "output_type": "execute_result"
    }
   ],
   "source": [
    "from ngsolve import *\n",
    "from ngsolve.webgui import Draw\n",
    "from netgen.geom2d import SplineGeometry\n",
    "import numpy as np\n",
    "\n",
    "\n",
    "# mesh = Mesh (unit_square.GenerateMesh(maxh=0.1))\n",
    "geo = SplineGeometry()\n",
    "geo.AddCircle((0,0),1,bc=\"circle\")\n",
    "\n",
    "mesh = Mesh(geo.GenerateMesh(maxh=0.05))\n",
    "#mesh = Mesh(geo.GenerateMesh(maxh=0.01))\n",
    "\n",
    "#sine_theta = sin(atan2(y, x))\n",
    "\n",
    "Draw(mesh)"
   ]
  },
  {
   "cell_type": "code",
   "execution_count": 26,
   "id": "78892984",
   "metadata": {},
   "outputs": [],
   "source": [
    "order = 3\n",
    "\n",
    "V1 = H1(mesh, order=order, dirichlet=\"circle\")\n",
    "V2 = NormalFacetFESpace(mesh, order=order-1, dirichlet=\"circle\")\n",
    "V = V1*V2\n",
    "\n",
    "w,what = V.TrialFunction()\n",
    "v,vhat = V.TestFunction()"
   ]
  },
  {
   "cell_type": "code",
   "execution_count": 27,
   "id": "b937efe9",
   "metadata": {},
   "outputs": [
    {
     "data": {
      "text/plain": [
       "('circle', 'circle', 'circle', 'circle')"
      ]
     },
     "execution_count": 27,
     "metadata": {},
     "output_type": "execute_result"
    }
   ],
   "source": [
    "mesh.GetBoundaries()"
   ]
  },
  {
   "cell_type": "code",
   "execution_count": 28,
   "id": "3dbaf009",
   "metadata": {},
   "outputs": [],
   "source": [
    "n = specialcf.normal(2)\n",
    "h = specialcf.mesh_size\n",
    "\n",
    "def jumpdn(v,vhat):\n",
    "    return n*(grad(v)-vhat)\n",
    "def hesse(v):\n",
    "    return v.Operator(\"hesse\")\n",
    "def hessenn(v):\n",
    "    return InnerProduct(n, hesse(v)*n)\n",
    "\n",
    "dS = dx(element_boundary=True)\n",
    "a = BilinearForm(V)\n",
    "a += InnerProduct (hesse(w), hesse(v)) * dx \\\n",
    "     - hessenn(w) * jumpdn(v,vhat) * dS \\\n",
    "     - hessenn(v) * jumpdn(w,what) * dS \\\n",
    "     + 3*order*order/h * jumpdn(w,what) * jumpdn(v,vhat) * dS\n",
    "a.Assemble()\n",
    "\n",
    "#f = LinearForm(1*v*dx).Assemble()\n",
    "#f = LinearForm(0.000000001*v*dx).Assemble()\n",
    "neuval = 0.1818\n",
    "f = LinearForm(neuval*v*dS).Assemble()\n",
    "#f = LinearForm(V.GetFE())\n",
    "#Impose Neumann BC\n",
    "#f += 0.3333*v*ds(definedon=\"circle\")\n"
   ]
  },
  {
   "cell_type": "code",
   "execution_count": 29,
   "id": "7d85b033",
   "metadata": {},
   "outputs": [
    {
     "data": {
      "application/vnd.jupyter.widget-view+json": {
       "model_id": "cd29c58bf8394775af45d8a6ec2cdcef",
       "version_major": 2,
       "version_minor": 0
      },
      "text/plain": [
       "WebGuiWidget(layout=Layout(height='500px', width='100%'), value={'gui_settings': {}, 'ngsolve_version': '6.2.2…"
      ]
     },
     "metadata": {},
     "output_type": "display_data"
    },
    {
     "data": {
      "application/vnd.jupyter.widget-view+json": {
       "model_id": "94a3d42d2dc34c79a459e4501cd67919",
       "version_major": 2,
       "version_minor": 0
      },
      "text/plain": [
       "WebGuiWidget(layout=Layout(height='500px', width='100%'), value={'gui_settings': {}, 'ngsolve_version': '6.2.2…"
      ]
     },
     "metadata": {},
     "output_type": "display_data"
    },
    {
     "data": {
      "application/vnd.jupyter.widget-view+json": {
       "model_id": "e7c92bf9e64d4b5083d70f09c53cf363",
       "version_major": 2,
       "version_minor": 0
      },
      "text/plain": [
       "WebGuiWidget(layout=Layout(height='500px', width='100%'), value={'gui_settings': {}, 'ngsolve_version': '6.2.2…"
      ]
     },
     "metadata": {},
     "output_type": "display_data"
    },
    {
     "data": {
      "text/plain": [
       "BaseWebGuiScene"
      ]
     },
     "execution_count": 29,
     "metadata": {},
     "output_type": "execute_result"
    }
   ],
   "source": [
    "\n",
    "\n",
    "u = GridFunction(V)\n",
    "# Set Dirichlet data\n",
    "u.components[0].Set(0,BND)\n",
    "u.vec.data = a.mat.Inverse(V.FreeDofs()) * f.vec\n",
    "\n",
    "Draw (u.components[0], mesh, \"disp_DG\")\n",
    "\n",
    "#Why is grad undefined?\n",
    "#Draw (grad (u.components[0]), mesh, \"grad\")\n",
    "Draw (grad(u.components[0]), mesh, \"grad\")\n",
    "Draw (hesse (u.components[0]), mesh, \"hesse\")"
   ]
  },
  {
   "cell_type": "code",
   "execution_count": 30,
   "id": "831339a8",
   "metadata": {},
   "outputs": [
    {
     "data": {
      "application/vnd.jupyter.widget-view+json": {
       "model_id": "5fd78c139fd64b02a09b9448455f6242",
       "version_major": 2,
       "version_minor": 0
      },
      "text/plain": [
       "WebGuiWidget(layout=Layout(height='500px', width='100%'), value={'gui_settings': {}, 'ngsolve_version': '6.2.2…"
      ]
     },
     "metadata": {},
     "output_type": "display_data"
    },
    {
     "data": {
      "text/plain": [
       "BaseWebGuiScene"
      ]
     },
     "execution_count": 30,
     "metadata": {},
     "output_type": "execute_result"
    }
   ],
   "source": [
    "vfes = VectorH1(mesh, order = 1)\n",
    "\n",
    "gu = GridFunction(vfes)\n",
    "gu.Set(grad(u.components[0]))\n",
    "lu = GridFunction(V1)\n",
    "lu.Set(div(gu))\n",
    "glu = GridFunction(vfes)\n",
    "glu.Set(grad(lu))\n",
    "\n",
    "Draw (glu, mesh, \"Laplacian\")"
   ]
  },
  {
   "cell_type": "code",
   "execution_count": 31,
   "id": "9b1ff8a5",
   "metadata": {},
   "outputs": [
    {
     "data": {
      "application/vnd.jupyter.widget-view+json": {
       "model_id": "2f0548dcc2b248b7be9a3f3a22619989",
       "version_major": 2,
       "version_minor": 0
      },
      "text/plain": [
       "WebGuiWidget(layout=Layout(height='500px', width='100%'), value={'gui_settings': {}, 'ngsolve_version': '6.2.2…"
      ]
     },
     "metadata": {},
     "output_type": "display_data"
    },
    {
     "data": {
      "text/plain": [
       "BaseWebGuiScene"
      ]
     },
     "execution_count": 31,
     "metadata": {},
     "output_type": "execute_result"
    }
   ],
   "source": [
    "# K=-e^{-2f}*\\Delta f\n",
    "\n",
    "curvatureK = GridFunction(V1)\n",
    "\n",
    "curvatureK.Set(-exp(-2*u.components[0])*lu)\n",
    "\n",
    "Draw (curvatureK, mesh, \"Gaussian Curvature\")\n",
    "\n",
    "#print(exp.__doc__)"
   ]
  },
  {
   "cell_type": "code",
   "execution_count": 32,
   "id": "bdbdb9ad",
   "metadata": {},
   "outputs": [],
   "source": [
    "from  ngsolve.internal import SnapShot\n",
    "#ngsolve.Redraw(blocking=True)\n",
    "SnapShot(\"aaa.bmp\")\n"
   ]
  }
 ],
 "metadata": {
  "kernelspec": {
   "display_name": "Python 3 (ipykernel)",
   "language": "python",
   "name": "python3"
  },
  "language_info": {
   "codemirror_mode": {
    "name": "ipython",
    "version": 3
   },
   "file_extension": ".py",
   "mimetype": "text/x-python",
   "name": "python",
   "nbconvert_exporter": "python",
   "pygments_lexer": "ipython3",
   "version": "3.7.9"
  }
 },
 "nbformat": 4,
 "nbformat_minor": 5
}
